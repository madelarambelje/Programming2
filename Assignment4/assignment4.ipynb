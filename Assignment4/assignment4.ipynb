{
 "cells": [
  {
   "cell_type": "code",
   "execution_count": 29,
   "metadata": {},
   "outputs": [],
   "source": [
    "import pyspark\n",
    "from pyspark import SparkContext, SparkFiles\n",
    "from pyspark.sql import Row\n",
    "from pyspark.sql import SQLContext, SparkSession\n",
    "from pyspark.sql import functions as F\n",
    "from pyspark.sql.types import IntegerType, FloatType, StringType\n",
    "from pyspark.ml.feature import Bucketizer\n",
    "from pyspark.sql.functions import udf\n",
    "from pyspark.sql.types import *\n"
   ]
  },
  {
   "cell_type": "code",
   "execution_count": 108,
   "metadata": {},
   "outputs": [],
   "source": [
    "sc =SparkContext('local[8]')"
   ]
  },
  {
   "cell_type": "code",
   "execution_count": 109,
   "metadata": {},
   "outputs": [
    {
     "data": {
      "text/plain": [
       "'/tmp/spark-a4bf5263-e9a9-4a42-b88d-09addcc430b5/userFiles-592ba8fe-b8f1-4da3-a35c-d5ca0913665c/player_data.csv'"
      ]
     },
     "execution_count": 109,
     "metadata": {},
     "output_type": "execute_result"
    }
   ],
   "source": [
    "url = \"https://gist.githubusercontent.com/masterofpun/f415cbae73c01c82a45e3a44b7189520/raw/902fddea3208778c107e091fe98ae28a65e93e1e/player_data.csv\"\n",
    "sc.addFile(url)\n",
    "sqlContext = SQLContext(sc)\n",
    "SparkFiles.get(\"player_data.csv\")"
   ]
  },
  {
   "cell_type": "code",
   "execution_count": 110,
   "metadata": {},
   "outputs": [],
   "source": [
    "df = sqlContext.read.csv(SparkFiles.get(\"player_data.csv\"),sep=\",\" ,header=True, inferSchema= True)\n"
   ]
  },
  {
   "cell_type": "code",
   "execution_count": 111,
   "metadata": {
    "scrolled": true
   },
   "outputs": [
    {
     "name": "stdout",
     "output_type": "stream",
     "text": [
      "+-------------+------------------+------+------+-----+----+------+-----------+-----------+\n",
      "|  nationality|              name|height|weight|goals|wins|losses|appearances|aerial_lost|\n",
      "+-------------+------------------+------+------+-----+----+------+-----------+-----------+\n",
      "|      England|     Danny Welbeck| 185cm|  73kg| 0.22|  87|    35|        154|       null|\n",
      "|      Germany|          Emre Can| 184cm|  82kg| 0.03|  29|    16|         60|         71|\n",
      "|        Spain|    Álvaro Negredo| 186cm|  86kg| 0.26|  23|     8|         39|       null|\n",
      "|      England|        Jordan Lee| 178cm|  80kg|  0.0|   0|     0|          0|          0|\n",
      "|      Belgium|  Thibaut Courtois| 199cm|  91kg|  0.0|  32|    10|         62|       null|\n",
      "|        Italy|    Angelo Ogbonna| 191cm|  86kg|  0.0|  13|     8|         32|         35|\n",
      "|      Ireland|       John O'Shea| 191cm|  75kg| 13.0| 214|   105|        420|        266|\n",
      "|      Germany|   Gerhard Tremmel| 190cm|  86kg|  0.0|   7|    15|         29|       null|\n",
      "|      England|   Oliver McBurnie|  null|  null|  1.0|   0|     1|          1|       null|\n",
      "|     Scotland|       George Boyd| 186cm|  79kg|  0.1|  17|    37|         72|        105|\n",
      "|United States|        Brad Guzan| 193cm|  94kg|  0.0|  32|    80|        146|       null|\n",
      "|     Cameroon|        Joel Matip| 195cm|  90kg|  0.0|   4|     0|          5|          5|\n",
      "|      England|         Sam Field| 180cm|  65kg|  3.0|   0|     1|          3|          3|\n",
      "|      England|     Harrison Reed| 181cm|  72kg| 14.0|   7|     3|         14|         17|\n",
      "|      Senegal|   Papy Djilobodji| 193cm|  82kg|  0.0|   0|     4|          5|          5|\n",
      "|        Congo|       Benik Afobe| 183cm|  79kg| 0.22|   6|     8|         18|       null|\n",
      "|      England|   Michael Carrick| 188cm|  74kg| 0.05| 254|   111|        456|         93|\n",
      "|      England|       Nathan Dyer| 165cm|  60kg| 0.12|  51|    52|        144|        105|\n",
      "|       Serbia|Branislav Ivanovic| 185cm|  91kg| 22.0| 145|    50|        254|        322|\n",
      "|      England|    Jason Puncheon| 173cm|  70kg| 0.16|  48|    64|        154|         82|\n",
      "+-------------+------------------+------+------+-----+----+------+-----------+-----------+\n",
      "only showing top 20 rows\n",
      "\n"
     ]
    }
   ],
   "source": [
    "df = df.select(\"nationality\",\"name\", \"height\", \"weight\", \"goals\", \"wins\", \"losses\", \"appearances\", \"aerial_lost\")"
   ]
  },
  {
   "cell_type": "code",
   "execution_count": 112,
   "metadata": {},
   "outputs": [],
   "source": [
    "df = df.dropna()\n",
    "df = df.withColumn(\"height\", F.regexp_replace(\"height\", \"cm\", \"\"))\n",
    "df = df.withColumn(\"height\", df[\"height\"].cast(IntegerType()))\n",
    "df = df.withColumn(\"weight\", F.regexp_replace(\"weight\", \"kg\", \"\"))\n",
    "df = df.withColumn(\"weight\", df[\"weight\"].cast(IntegerType()))"
   ]
  },
  {
   "cell_type": "code",
   "execution_count": 113,
   "metadata": {},
   "outputs": [],
   "source": [
    "df = df.withColumn(\"BMI\", (df['weight']/((df[\"height\"]/100)**2)))\n",
    "df = df.withColumn(\"BMI\", df[\"BMI\"].cast(FloatType()))\n",
    "df = df.withColumn(\"BMI\", F.round(df[\"BMI\"], 2))"
   ]
  },
  {
   "cell_type": "code",
   "execution_count": 124,
   "metadata": {},
   "outputs": [],
   "source": [
    "# Making labels for lengths\n",
    "def categorizer(height):\n",
    "      if height < 175:\n",
    "        return \"small\"\n",
    "      elif height < 185:\n",
    "        return \"medium\"\n",
    "      else:\n",
    "        return \"tall\""
   ]
  },
  {
   "cell_type": "code",
   "execution_count": 125,
   "metadata": {},
   "outputs": [],
   "source": [
    "# applying categorizer\n",
    "bucket_udf = udf(categorizer, StringType() )\n",
    "df = df.withColumn(\"height_factor\", bucket_udf(\"height\"))"
   ]
  },
  {
   "cell_type": "code",
   "execution_count": 188,
   "metadata": {},
   "outputs": [
    {
     "name": "stdout",
     "output_type": "stream",
     "text": [
      "+-------------+----------------+\n",
      "|height_factor|sum(aerial_lost)|\n",
      "+-------------+----------------+\n",
      "|         tall|           12785|\n",
      "|       medium|           13685|\n",
      "|        small|            3164|\n",
      "+-------------+----------------+\n",
      "\n"
     ]
    }
   ],
   "source": [
    "# Group by height and the sum of aerial losses\n",
    "df.groupBy('height_factor').sum(\"aerial_lost\").show()"
   ]
  },
  {
   "cell_type": "code",
   "execution_count": 192,
   "metadata": {},
   "outputs": [
    {
     "name": "stdout",
     "output_type": "stream",
     "text": [
      "+-----------+------------------+------+------+-----+----+------+-----------+-----------+-----+-------------+\n",
      "|nationality|              name|height|weight|goals|wins|losses|appearances|aerial_lost|  BMI|height_factor|\n",
      "+-----------+------------------+------+------+-----+----+------+-----------+-----------+-----+-------------+\n",
      "|    Germany|          Emre Can|   184|    82| 0.03|  29|    16|         60|         71|24.22|       medium|\n",
      "|      Italy|    Angelo Ogbonna|   191|    86|  0.0|  13|     8|         32|         35|23.57|         tall|\n",
      "|    Ireland|       John O'Shea|   191|    75| 13.0| 214|   105|        420|        266|20.56|         tall|\n",
      "|   Scotland|       George Boyd|   186|    79|  0.1|  17|    37|         72|        105|22.84|         tall|\n",
      "|   Cameroon|        Joel Matip|   195|    90|  0.0|   4|     0|          5|          5|23.67|         tall|\n",
      "|    Senegal|   Papy Djilobodji|   193|    82|  0.0|   0|     4|          5|          5|22.01|         tall|\n",
      "|     Serbia|Branislav Ivanovic|   185|    91| 22.0| 145|    50|        254|        322|26.59|         tall|\n",
      "|  Argentina|     Claudio Yacob|   181|    77| 0.01|  37|    42|        118|        140| 23.5|       medium|\n",
      "|      Spain|      Pedro Obiang|   185|    75| 26.0|  13|     3|         26|         22|21.91|         tall|\n",
      "|     Brazil|          Fernando|   183|    76| 0.08|  29|    11|         53|         71|22.69|       medium|\n",
      "|      Wales|        Joe Ledley|   183|    73| 0.09|  28|    26|         70|        102| 21.8|       medium|\n",
      "|Switzerland|      Granit Xhaka|   185|    82| 0.17|   4|     1|          6|          4|23.96|         tall|\n",
      "|    Ireland|      Glenn Whelan|   180|    79| 0.02|  87|    97|        254|        141|24.38|       medium|\n",
      "|     France|        Kurt Zouma|   190|    92|  1.0|  17|     8|         38|         40|25.48|         tall|\n",
      "|    Uruguay|    Gastón Ramírez|   183|    77| 0.09|  22|    32|         77|         74|22.99|       medium|\n",
      "|    Ireland|        Kevin Long|   188|    83|  0.0|   0|     0|          1|          0|23.48|         tall|\n",
      "|     Poland|  Bartosz Kapustka|   179|    60|  0.0|   0|     0|          0|          0|18.73|       medium|\n",
      "|    Ecuador|  Antonio Valencia|   181|    83| 20.0| 144|    70|        267|        333|25.34|       medium|\n",
      "|      Spain|       Jesús Navas|   170|    60| 0.04|  62|    21|        103|         96|20.76|        small|\n",
      "|  Argentina|    Manuel Lanzini|   167|    59| 0.23|  13|     9|         31|         12|21.16|        small|\n",
      "+-----------+------------------+------+------+-----+----+------+-----------+-----------+-----+-------------+\n",
      "only showing top 20 rows\n",
      "\n"
     ]
    }
   ],
   "source": [
    "# Filtered out England \n",
    "df.filter(df.nationality != \"England\").show()"
   ]
  }
 ],
 "metadata": {
  "kernelspec": {
   "display_name": "Python 3",
   "language": "python",
   "name": "python3"
  },
  "language_info": {
   "codemirror_mode": {
    "name": "ipython",
    "version": 3
   },
   "file_extension": ".py",
   "mimetype": "text/x-python",
   "name": "python",
   "nbconvert_exporter": "python",
   "pygments_lexer": "ipython3",
   "version": "3.8.7"
  }
 },
 "nbformat": 4,
 "nbformat_minor": 5
}
