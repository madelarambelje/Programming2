{
 "cells": [
  {
   "cell_type": "markdown",
   "metadata": {},
   "source": [
    "## Final Assignment"
   ]
  },
  {
   "cell_type": "markdown",
   "metadata": {},
   "source": [
    "\n",
    "Before working on this assignment please read these instructions fully. Use blackboard to submit a link to your repository. \n",
    "\n",
    "On blackboard your find the assessment criteria. Please familiarize yourself with the criteria before beginning the assignment.\n",
    "\n",
    "This assignment requires that you to find at least two datasets on the web which are related, and that you build an application that visualize these datasets to answer a research question with the broad topic of **health** or **agriculture** in the **region where you were born**. The region can be a city, town or a provence.  \n",
    "\n",
    "The research question should be a question with a causual nature. For instance questions like: How does independent variable X influence the dependent variable of Y?\n",
    "\n",
    "The code should be programmed efficiently. Also identify the most critical part and write software test for this part. Take into account the performance of the dataprocessing"
   ]
  },
  {
   "cell_type": "markdown",
   "metadata": {},
   "source": [
    "### About the data\n",
    "\n",
    "You can merge these datasets with data from different regions if you like. For instance, you might want to compare the health effect of earhtquacks in Groningen versus Los Angelos USA. \n",
    "\n",
    "You are welcome to choose datasets at your discretion, but keep in mind they will be shared with others, so choose appropriate datasets. You are welcome to use datasets of your own as well, but minimual two datasets should be coming from the web and or API's. \n",
    "\n",
    "Also, you are welcome to preserve data in its original language, but for the purposes of grading you should provide english translations in your visualization. "
   ]
  },
  {
   "cell_type": "markdown",
   "metadata": {},
   "source": [
    "### Instructions:\n",
    "\n",
    "Define a research question, select data and code your data acquisition, data processing, data analysis and visualization. Write code to test most critical parts. Use a repository with a commit strategy and write a readme file. \n",
    "\n",
    "Write a small document with the following:\n",
    "- State the region and the domain category that your data sets are about \n",
    "- State the research question \n",
    "- Justify the chosen data storage and processing approach\n",
    "- Justify the chosen analysis approach\n",
    "- Justify the chosen data visualization approach\n",
    "\n",
    "Upload your document and the link of your repository to black board"
   ]
  },
  {
   "cell_type": "code",
   "execution_count": 100,
   "metadata": {},
   "outputs": [],
   "source": [
    "import dask\n",
    "import dask.dataframe as dd\n",
    "from dask.distributed import Client"
   ]
  },
  {
   "cell_type": "code",
   "execution_count": 101,
   "metadata": {},
   "outputs": [],
   "source": [
    "#Importing dependencies\n",
    "import yaml\n",
    "import matplotlib.pyplot as plt\n",
    "from IPython.display import display\n",
    "from bokeh.io import output_notebook\n",
    "from bokeh.plotting import figure, show, ColumnDataSource, output_file\n",
    "from bokeh.layouts import gridplot, row\n",
    "from bokeh.models.widgets import Panel, Tabs\n",
    "from sklearn.linear_model import LinearRegression\n",
    "from bokeh.models import Slope, Span, HoverTool, GeoJSONDataSource, LinearColorMapper, ColorBar\n",
    "from scipy.optimize import least_squares\n",
    "import statsmodels.api as sm\n",
    "import scipy as sp\n",
    "import scipy.stats as stats\n",
    "from numpy import histogram, linspace\n",
    "from scipy.stats.kde import gaussian_kde\n",
    "from bokeh.sampledata.sample_geojson import geojson\n",
    "import geopandas as gpd\n",
    "import json\n",
    "from bokeh.palettes import brewer"
   ]
  },
  {
   "cell_type": "code",
   "execution_count": 102,
   "metadata": {},
   "outputs": [],
   "source": [
    "#Reading in obese, overweight, corona cases files from config file using yaml\n",
    "def get_config():\n",
    "    with open(\"FA_config.yaml\", 'r') as stream:\n",
    "        config = yaml.safe_load(stream)\n",
    "    return config\n",
    "config = get_config()\n",
    "obese = dd.read_csv(config[\"obese_cases\"], sep=(\";\"))\n",
    "overweight = dd.read_csv(config['overweight_cases'], sep = \";\")\n",
    "cor_cases = dd.read_csv(config[\"corona_cases\"], sep=\";\")\n",
    "towns_provinces = dd.read_csv(config[\"town_province\"])\n",
    "civilian_count_region = dd.read_csv(config[\"civilian_count_region\"], sep = \";\")\n",
    "\n",
    "provinces = [\"Groningen\", \"Drenthe\"]\n"
   ]
  },
  {
   "cell_type": "code",
   "execution_count": 103,
   "metadata": {},
   "outputs": [],
   "source": [
    "\"\"\"Sources: https://www.cbs.nl/nl-nl/nieuws/2020/53/aantal-gemeenten-daalt-in-2021-verder-tot-352\n",
    "https://www.cbs.nl/nl-nl/onze-diensten/methoden/classificaties/overig/gemeentelijke-indelingen-per-jaar/indeling-per-jaar/gemeentelijke-indeling-op-1-januari-2019\"\"\"\n",
    "# Manual adjusting the updates from the municipalities in 2017 and 2021\n",
    "\n",
    "obese = obese.mask(obese == \"Bedum\", \"Het Hogeland\")\n",
    "obese = obese.mask(obese == \"Eemsmond\", \"Het Hogeland\")\n",
    "obese = obese.mask(obese == \"De Marne\", \"Het Hogeland\")\n",
    "obese = obese.mask(obese == \"Winsum\", \"Het Hogeland\")\n",
    "\n",
    "obese = obese.mask(obese == \"Grootegast\", \"Westerkwartier\")\n",
    "obese = obese.mask(obese == \"Leek\", \"Westerkwartier\")\n",
    "obese = obese.mask(obese == \"Marum\", \"Westerkwartier\")\n",
    "obese = obese.mask(obese == \"Zuidhorn\", \"Westerkwartier\")\n",
    "\n",
    "obese = obese.mask(obese == \"Hoogezand-Sappemeer\", \"Midden-Groningen\")\n",
    "obese = obese.mask(obese == \"Slochteren\", \"Midden-Groningen\")\n",
    "obese = obese.mask(obese == \"Menterwolde\", \"Midden-Groningen\")\n",
    "\n",
    "\n",
    "\n",
    "overweight = overweight.mask(overweight == \"Bedum\", \"Het Hogeland\")\n",
    "overweight = overweight.mask(overweight == \"Eemsmond\", \"Het Hogeland\")\n",
    "overweight = overweight.mask(overweight == \"De Marne\", \"Het Hogeland\")\n",
    "overweight = overweight.mask(overweight == \"Winsum\", \"Het Hogeland\")\n",
    "\n",
    "overweight = overweight.mask(overweight == \"Grootegast\", \"Westerkwartier\")\n",
    "overweight = overweight.mask(overweight == \"Leek\", \"Westerkwartier\")\n",
    "overweight = overweight.mask(overweight == \"Marum\", \"Westerkwartier\")\n",
    "overweight = overweight.mask(overweight == \"Zuidhorn\", \"Westerkwartier\")\n",
    "\n",
    "overweight = overweight.mask(overweight == \"Hoogezand-Sappemeer\", \"Midden-Groningen\")\n",
    "overweight = overweight.mask(overweight == \"Slochteren\", \"Midden-Groningen\")\n",
    "overweight = overweight.mask(overweight == \"Menterwolde\", \"Midden-Groningen\")\n",
    "\n",
    "overweight = overweight.mask(overweight == \"Ten boer\", \"Groningen\")\n",
    "overweight = overweight.mask(overweight == \"Groningen\", \"Groningen\")\n",
    "overweight = overweight.mask(overweight == \"Haren\", \"Groningen\")\n",
    "\n"
   ]
  },
  {
   "cell_type": "code",
   "execution_count": 104,
   "metadata": {},
   "outputs": [],
   "source": [
    "overweight_added_province = dd.merge(overweight,towns_provinces[[\"Gemeentenaam\", \"Provincienaam\"]], left_on=\"Gemeente\", right_on=\"Gemeentenaam\")\n",
    "obese_added_province = dd.merge(obese,towns_provinces[[\"Gemeentenaam\", \"Provincienaam\"]], left_on=\"Gemeente\", right_on=\"Gemeentenaam\")"
   ]
  },
  {
   "cell_type": "code",
   "execution_count": 105,
   "metadata": {},
   "outputs": [],
   "source": [
    "obese_Gr_Dr = obese_added_province[obese_added_province[\"Provincienaam\"].isin(provinces)]\n",
    "overweight_Gr_Dr = overweight_added_province[overweight_added_province[\"Provincienaam\"].isin(provinces)]"
   ]
  },
  {
   "cell_type": "code",
   "execution_count": 106,
   "metadata": {},
   "outputs": [],
   "source": [
    "obese_Gr_Dr = obese_Gr_Dr.rename(columns={\"Ernstig overgewicht (%)\":\"Obese(%)\",\n",
    "                                          \"Provincienaam\":\"Province\",\n",
    "                                          \"Gebied\":\"Area\",\"Gemeente\":\"Region\",\n",
    "                                          \"idID\":\"RegionID\"})\n",
    "overweight_Gr_Dr = overweight_Gr_Dr.rename(columns={\"Overgewicht (%)\":\"Overweight(%)\", \n",
    "                                                    \"Provincienaam\":\"Province\", \n",
    "                                                    \"Gebied\":\"Area\",\"Gemeente\":\"Region\",\n",
    "                                                    \"idID\":\"RegionID\"})"
   ]
  },
  {
   "cell_type": "code",
   "execution_count": 107,
   "metadata": {},
   "outputs": [],
   "source": [
    "obese_overweight = dd.merge(obese_Gr_Dr, overweight_Gr_Dr)[[\"Province\", \"RegionID\",\"Region\",\"Area\", \"Obese(%)\", \"Overweight(%)\"]].dropna()\n"
   ]
  },
  {
   "cell_type": "code",
   "execution_count": 108,
   "metadata": {},
   "outputs": [
    {
     "data": {
      "text/html": [
       "<div>\n",
       "<style scoped>\n",
       "    .dataframe tbody tr th:only-of-type {\n",
       "        vertical-align: middle;\n",
       "    }\n",
       "\n",
       "    .dataframe tbody tr th {\n",
       "        vertical-align: top;\n",
       "    }\n",
       "\n",
       "    .dataframe thead th {\n",
       "        text-align: right;\n",
       "    }\n",
       "</style>\n",
       "<table border=\"1\" class=\"dataframe\">\n",
       "  <thead>\n",
       "    <tr style=\"text-align: right;\">\n",
       "      <th></th>\n",
       "      <th>Province</th>\n",
       "      <th>RegionID</th>\n",
       "      <th>Region</th>\n",
       "      <th>Area</th>\n",
       "      <th>Obese(%)</th>\n",
       "      <th>Overweight(%)</th>\n",
       "    </tr>\n",
       "  </thead>\n",
       "  <tbody>\n",
       "    <tr>\n",
       "      <th>1</th>\n",
       "      <td>Drenthe</td>\n",
       "      <td>1680</td>\n",
       "      <td>Aa en Hunze</td>\n",
       "      <td>Wijk 00 Annen</td>\n",
       "      <td>15.0</td>\n",
       "      <td>53.0</td>\n",
       "    </tr>\n",
       "    <tr>\n",
       "      <th>2</th>\n",
       "      <td>Drenthe</td>\n",
       "      <td>1680</td>\n",
       "      <td>Aa en Hunze</td>\n",
       "      <td>Wijk 01 Eext</td>\n",
       "      <td>15.0</td>\n",
       "      <td>54.0</td>\n",
       "    </tr>\n",
       "    <tr>\n",
       "      <th>3</th>\n",
       "      <td>Drenthe</td>\n",
       "      <td>1680</td>\n",
       "      <td>Aa en Hunze</td>\n",
       "      <td>Wijk 02 Anloo</td>\n",
       "      <td>17.0</td>\n",
       "      <td>55.0</td>\n",
       "    </tr>\n",
       "    <tr>\n",
       "      <th>4</th>\n",
       "      <td>Drenthe</td>\n",
       "      <td>1680</td>\n",
       "      <td>Aa en Hunze</td>\n",
       "      <td>Wijk 03 Gasteren</td>\n",
       "      <td>13.0</td>\n",
       "      <td>50.0</td>\n",
       "    </tr>\n",
       "    <tr>\n",
       "      <th>5</th>\n",
       "      <td>Drenthe</td>\n",
       "      <td>1680</td>\n",
       "      <td>Aa en Hunze</td>\n",
       "      <td>Wijk 04 Anderen</td>\n",
       "      <td>15.0</td>\n",
       "      <td>55.0</td>\n",
       "    </tr>\n",
       "  </tbody>\n",
       "</table>\n",
       "</div>"
      ],
      "text/plain": [
       "  Province  RegionID       Region              Area  Obese(%)  Overweight(%)\n",
       "1  Drenthe      1680  Aa en Hunze     Wijk 00 Annen      15.0           53.0\n",
       "2  Drenthe      1680  Aa en Hunze      Wijk 01 Eext      15.0           54.0\n",
       "3  Drenthe      1680  Aa en Hunze     Wijk 02 Anloo      17.0           55.0\n",
       "4  Drenthe      1680  Aa en Hunze  Wijk 03 Gasteren      13.0           50.0\n",
       "5  Drenthe      1680  Aa en Hunze   Wijk 04 Anderen      15.0           55.0"
      ]
     },
     "execution_count": 108,
     "metadata": {},
     "output_type": "execute_result"
    }
   ],
   "source": [
    "obese_overweight.head()"
   ]
  },
  {
   "cell_type": "code",
   "execution_count": 109,
   "metadata": {},
   "outputs": [],
   "source": [
    "obese_overweight[[\"Obese(%)\", \"Overweight(%)\"]] = obese_overweight[[\"Obese(%)\", \"Overweight(%)\"]].astype(float)"
   ]
  },
  {
   "cell_type": "code",
   "execution_count": 112,
   "metadata": {},
   "outputs": [
    {
     "data": {
      "text/html": [
       "<div>\n",
       "<style scoped>\n",
       "    .dataframe tbody tr th:only-of-type {\n",
       "        vertical-align: middle;\n",
       "    }\n",
       "\n",
       "    .dataframe tbody tr th {\n",
       "        vertical-align: top;\n",
       "    }\n",
       "\n",
       "    .dataframe thead th {\n",
       "        text-align: right;\n",
       "    }\n",
       "</style>\n",
       "<table border=\"1\" class=\"dataframe\">\n",
       "  <thead>\n",
       "    <tr style=\"text-align: right;\">\n",
       "      <th></th>\n",
       "      <th>Province</th>\n",
       "      <th>RegionID</th>\n",
       "      <th>Region</th>\n",
       "      <th>Area</th>\n",
       "      <th>Obese(%)</th>\n",
       "      <th>Overweight(%)</th>\n",
       "    </tr>\n",
       "  </thead>\n",
       "  <tbody>\n",
       "    <tr>\n",
       "      <th>1</th>\n",
       "      <td>Drenthe</td>\n",
       "      <td>1680</td>\n",
       "      <td>Aa en Hunze</td>\n",
       "      <td>Wijk 00 Annen</td>\n",
       "      <td>15.0</td>\n",
       "      <td>53.0</td>\n",
       "    </tr>\n",
       "    <tr>\n",
       "      <th>2</th>\n",
       "      <td>Drenthe</td>\n",
       "      <td>1680</td>\n",
       "      <td>Aa en Hunze</td>\n",
       "      <td>Wijk 01 Eext</td>\n",
       "      <td>15.0</td>\n",
       "      <td>54.0</td>\n",
       "    </tr>\n",
       "    <tr>\n",
       "      <th>3</th>\n",
       "      <td>Drenthe</td>\n",
       "      <td>1680</td>\n",
       "      <td>Aa en Hunze</td>\n",
       "      <td>Wijk 02 Anloo</td>\n",
       "      <td>17.0</td>\n",
       "      <td>55.0</td>\n",
       "    </tr>\n",
       "    <tr>\n",
       "      <th>4</th>\n",
       "      <td>Drenthe</td>\n",
       "      <td>1680</td>\n",
       "      <td>Aa en Hunze</td>\n",
       "      <td>Wijk 03 Gasteren</td>\n",
       "      <td>13.0</td>\n",
       "      <td>50.0</td>\n",
       "    </tr>\n",
       "    <tr>\n",
       "      <th>5</th>\n",
       "      <td>Drenthe</td>\n",
       "      <td>1680</td>\n",
       "      <td>Aa en Hunze</td>\n",
       "      <td>Wijk 04 Anderen</td>\n",
       "      <td>15.0</td>\n",
       "      <td>55.0</td>\n",
       "    </tr>\n",
       "  </tbody>\n",
       "</table>\n",
       "</div>"
      ],
      "text/plain": [
       "  Province  RegionID       Region              Area  Obese(%)  Overweight(%)\n",
       "1  Drenthe      1680  Aa en Hunze     Wijk 00 Annen      15.0           53.0\n",
       "2  Drenthe      1680  Aa en Hunze      Wijk 01 Eext      15.0           54.0\n",
       "3  Drenthe      1680  Aa en Hunze     Wijk 02 Anloo      17.0           55.0\n",
       "4  Drenthe      1680  Aa en Hunze  Wijk 03 Gasteren      13.0           50.0\n",
       "5  Drenthe      1680  Aa en Hunze   Wijk 04 Anderen      15.0           55.0"
      ]
     },
     "execution_count": 112,
     "metadata": {},
     "output_type": "execute_result"
    }
   ],
   "source": [
    "obese_overweight.head()"
   ]
  },
  {
   "cell_type": "code",
   "execution_count": 119,
   "metadata": {},
   "outputs": [],
   "source": [
    "mean_obese_overweight_region = obese_overweight.groupby([\"Province\", \"Region\", \"RegionID\"]).mean()"
   ]
  },
  {
   "cell_type": "code",
   "execution_count": 120,
   "metadata": {},
   "outputs": [],
   "source": [
    "mean_obese_overweight_region = mean_obese_overweight_region.reset_index()"
   ]
  },
  {
   "cell_type": "code",
   "execution_count": 123,
   "metadata": {},
   "outputs": [],
   "source": [
    "mean_obese_overweight_region = mean_obese_overweight_region.mask(mean_obese_overweight_region == \"416\", '1952')\n",
    "mean_obese_overweight_region = mean_obese_overweight_region.mask(mean_obese_overweight_region == \"28\", '1969')\n",
    "mean_obese_overweight_region = mean_obese_overweight_region.mask(mean_obese_overweight_region == \"1032\", '1966')\n",
    "mean_obese_overweight_region = mean_obese_overweight_region.mask(mean_obese_overweight_region == \"14\", '14')"
   ]
  },
  {
   "cell_type": "code",
   "execution_count": 124,
   "metadata": {},
   "outputs": [],
   "source": [
    "mean_obese_overweight_region[\"RegionID\"] = mean_obese_overweight_region[\"RegionID\"].astype(int)"
   ]
  },
  {
   "cell_type": "code",
   "execution_count": 126,
   "metadata": {},
   "outputs": [
    {
     "data": {
      "text/html": [
       "<div>\n",
       "<style scoped>\n",
       "    .dataframe tbody tr th:only-of-type {\n",
       "        vertical-align: middle;\n",
       "    }\n",
       "\n",
       "    .dataframe tbody tr th {\n",
       "        vertical-align: top;\n",
       "    }\n",
       "\n",
       "    .dataframe thead th {\n",
       "        text-align: right;\n",
       "    }\n",
       "</style>\n",
       "<table border=\"1\" class=\"dataframe\">\n",
       "  <thead>\n",
       "    <tr style=\"text-align: right;\">\n",
       "      <th></th>\n",
       "      <th>Province</th>\n",
       "      <th>Region</th>\n",
       "      <th>RegionID</th>\n",
       "      <th>Obese(%)</th>\n",
       "      <th>Overweight(%)</th>\n",
       "    </tr>\n",
       "  </thead>\n",
       "  <tbody>\n",
       "    <tr>\n",
       "      <th>0</th>\n",
       "      <td>Drenthe</td>\n",
       "      <td>Aa en Hunze</td>\n",
       "      <td>1680</td>\n",
       "      <td>16.047619</td>\n",
       "      <td>54.714286</td>\n",
       "    </tr>\n",
       "    <tr>\n",
       "      <th>1</th>\n",
       "      <td>Drenthe</td>\n",
       "      <td>Assen</td>\n",
       "      <td>106</td>\n",
       "      <td>14.800000</td>\n",
       "      <td>51.600000</td>\n",
       "    </tr>\n",
       "    <tr>\n",
       "      <th>2</th>\n",
       "      <td>Drenthe</td>\n",
       "      <td>Borger-Odoorn</td>\n",
       "      <td>1681</td>\n",
       "      <td>17.058824</td>\n",
       "      <td>56.588235</td>\n",
       "    </tr>\n",
       "    <tr>\n",
       "      <th>3</th>\n",
       "      <td>Drenthe</td>\n",
       "      <td>Coevorden</td>\n",
       "      <td>109</td>\n",
       "      <td>16.333333</td>\n",
       "      <td>55.777778</td>\n",
       "    </tr>\n",
       "    <tr>\n",
       "      <th>4</th>\n",
       "      <td>Drenthe</td>\n",
       "      <td>De Wolden</td>\n",
       "      <td>1690</td>\n",
       "      <td>14.857143</td>\n",
       "      <td>52.571429</td>\n",
       "    </tr>\n",
       "  </tbody>\n",
       "</table>\n",
       "</div>"
      ],
      "text/plain": [
       "  Province         Region  RegionID   Obese(%)  Overweight(%)\n",
       "0  Drenthe    Aa en Hunze      1680  16.047619      54.714286\n",
       "1  Drenthe          Assen       106  14.800000      51.600000\n",
       "2  Drenthe  Borger-Odoorn      1681  17.058824      56.588235\n",
       "3  Drenthe      Coevorden       109  16.333333      55.777778\n",
       "4  Drenthe      De Wolden      1690  14.857143      52.571429"
      ]
     },
     "metadata": {},
     "output_type": "display_data"
    }
   ],
   "source": [
    "display(mean_obese_overweight_region.head())"
   ]
  },
  {
   "cell_type": "code",
   "execution_count": 127,
   "metadata": {},
   "outputs": [],
   "source": [
    "civilian_count_region[\"RegioS\"] = civilian_count_region[\"RegioS\"].str.strip(\"GM\").astype(int)"
   ]
  },
  {
   "cell_type": "code",
   "execution_count": 128,
   "metadata": {},
   "outputs": [],
   "source": [
    "civilian_count_region = civilian_count_region.rename(columns={\"RegioS\":\"RegionID\"})\n"
   ]
  },
  {
   "cell_type": "code",
   "execution_count": 129,
   "metadata": {},
   "outputs": [],
   "source": [
    "mean_obese_overweight_region = mean_obese_overweight_region.merge(civilian_count_region[[\"RegionID\", \"TotaleBevolking_1\"]],on=\"RegionID\")"
   ]
  },
  {
   "cell_type": "code",
   "execution_count": 56,
   "metadata": {},
   "outputs": [],
   "source": [
    "#Adding civilian count per region for normalization\n",
    "civilian_count_region[\"RegioS\"] = civilian_count_region[\"RegioS\"].str.strip(\"GM\").astype(int)\n",
    "civilian_count_region = civilian_count_region.rename(columns={\"RegioS\":\"RegionID\"})\n",
    "mean_obese_overweight_region = mean_obese_overweight_region.merge(civilian_count_region[[\"RegionID\", \"TotaleBevolking_1\"]],on=\"RegionID\")"
   ]
  },
  {
   "cell_type": "code",
   "execution_count": null,
   "metadata": {},
   "outputs": [],
   "source": []
  },
  {
   "cell_type": "code",
   "execution_count": 57,
   "metadata": {
    "scrolled": true
   },
   "outputs": [
    {
     "name": "stderr",
     "output_type": "stream",
     "text": [
      "<ipython-input-57-311bd6df7296>:4: SettingWithCopyWarning: \n",
      "A value is trying to be set on a copy of a slice from a DataFrame.\n",
      "Try using .loc[row_indexer,col_indexer] = value instead\n",
      "\n",
      "See the caveats in the documentation: https://pandas.pydata.org/pandas-docs/stable/user_guide/indexing.html#returning-a-view-versus-a-copy\n",
      "  cor_dr_gr[\"Date_of_report\"] = pd.to_datetime(cor_dr_gr[\"Date_of_report\"], errors=\"ignore\")\n"
     ]
    }
   ],
   "source": [
    "#Extracting Groningen and Drenthe\n",
    "cor_dr_gr = cor_cases[cor_cases[\"Province\"].isin(provinces)]\n",
    "#Extract latest COVID data\n",
    "cor_dr_gr[\"Date_of_report\"] = pd.to_datetime(cor_dr_gr[\"Date_of_report\"], errors=\"ignore\")\n",
    "up_to_data_cor = cor_dr_gr[cor_dr_gr[\"Date_of_report\"] == cor_dr_gr[\"Date_of_report\"].max()].dropna()\n",
    "#Rename column for merging\n",
    "up_to_data_cor = up_to_data_cor.rename(columns={\"Municipality_code\":\"RegionID\"})\n",
    "#display(up_to_data_cor)\n",
    "up_to_data_cor[\"RegionID\"] = up_to_data_cor[\"RegionID\"].str.strip(\"GM\").astype(int)\n",
    "#Merging on Region ID\n",
    "COVID_OvOb = mean_obese_overweight_region.merge(up_to_data_cor[[\"RegionID\", \"Total_reported\",\"Hospital_admission\", \"Deceased\"]], on=\"RegionID\")\n",
    "#for_geo_map = mean_obese_overweight_region.merge(up_to_data_cor[[\"RegionID\", \"Total_reported\",\"Hospital_admission\", \"Deceased\"]], on=\"RegionID\", how=\"left\")\n",
    "\n",
    "COVID_OvOb[\"TotaleBevolking_1\"] = COVID_OvOb[\"TotaleBevolking_1\"].astype(int)\n",
    "COVID_OvOb = COVID_OvOb.rename(columns={\"TotaleBevolking_1\":\"Civilian_number\"})\n",
    "#Normalizing cases, deceased, hospitalized\n",
    "COVID_OvOb[\"Normalized_Corona\"] = COVID_OvOb[\"Total_reported\"]/COVID_OvOb[\"Civilian_number\"]*1e5\n",
    "COVID_OvOb[\"Normalized_hospitalized\"] = COVID_OvOb[\"Hospital_admission\"]/COVID_OvOb[\"Civilian_number\"]*1e5\n",
    "COVID_OvOb[\"Normalized_deceased\"] = COVID_OvOb[\"Deceased\"]/COVID_OvOb[\"Civilian_number\"]*1e5\n",
    "\n"
   ]
  },
  {
   "cell_type": "code",
   "execution_count": 59,
   "metadata": {},
   "outputs": [],
   "source": [
    "#Loading municip\n",
    "current_url ='https://opendata.arcgis.com/datasets/620c2ab925f64ed5979d251ba7753b7f_0.geojson'\n",
    "gpd = gpd.read_file(current_url)\n"
   ]
  },
  {
   "cell_type": "code",
   "execution_count": null,
   "metadata": {},
   "outputs": [],
   "source": []
  }
 ],
 "metadata": {
  "kernelspec": {
   "display_name": "Python 3",
   "language": "python",
   "name": "python3"
  },
  "language_info": {
   "codemirror_mode": {
    "name": "ipython",
    "version": 3
   },
   "file_extension": ".py",
   "mimetype": "text/x-python",
   "name": "python",
   "nbconvert_exporter": "python",
   "pygments_lexer": "ipython3",
   "version": "3.9.5"
  }
 },
 "nbformat": 4,
 "nbformat_minor": 2
}
