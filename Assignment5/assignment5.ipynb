{
 "cells": [
  {
   "cell_type": "markdown",
   "metadata": {},
   "source": [
    "## Final Assignment"
   ]
  },
  {
   "cell_type": "markdown",
   "metadata": {},
   "source": [
    "\n",
    "Before working on this assignment please read these instructions fully. Use blackboard to submit a link to your repository. \n",
    "\n",
    "On blackboard your find the assessment criteria. Please familiarize yourself with the criteria before beginning the assignment.\n",
    "\n",
    "This assignment requires that you to find at least two datasets on the web which are related, and that you build an application that visualize these datasets to answer a research question with the broad topic of **health** or **agriculture** in the **region where you were born**. The region can be a city, town or a provence.  \n",
    "\n",
    "The research question should be a question with a causual nature. For instance questions like: How does independent variable X influence the dependent variable of Y?\n",
    "\n",
    "The code should be programmed efficiently. Also identify the most critical part and write software test for this part. Take into account the performance of the dataprocessing"
   ]
  },
  {
   "cell_type": "markdown",
   "metadata": {},
   "source": [
    "### About the data\n",
    "\n",
    "You can merge these datasets with data from different regions if you like. For instance, you might want to compare the health effect of earhtquacks in Groningen versus Los Angelos USA. \n",
    "\n",
    "You are welcome to choose datasets at your discretion, but keep in mind they will be shared with others, so choose appropriate datasets. You are welcome to use datasets of your own as well, but minimual two datasets should be coming from the web and or API's. \n",
    "\n",
    "Also, you are welcome to preserve data in its original language, but for the purposes of grading you should provide english translations in your visualization. "
   ]
  },
  {
   "cell_type": "markdown",
   "metadata": {},
   "source": [
    "### Instructions:\n",
    "\n",
    "Define a research question, select data and code your data acquisition, data processing, data analysis and visualization. Write code to test most critical parts. Use a repository with a commit strategy and write a readme file. \n",
    "\n",
    "Write a small document with the following:\n",
    "- State the region and the domain category that your data sets are about \n",
    "- State the research question \n",
    "- Justify the chosen data storage and processing approach\n",
    "- Justify the chosen analysis approach\n",
    "- Justify the chosen data visualization approach\n",
    "\n",
    "Upload your document and the link of your repository to black board"
   ]
  },
  {
   "cell_type": "code",
   "execution_count": 1,
   "metadata": {},
   "outputs": [],
   "source": [
    "import dask\n",
    "import dask.dataframe as dd\n",
    "import yaml\n",
    "from dask.distributed import Client"
   ]
  },
  {
   "cell_type": "code",
   "execution_count": 3,
   "metadata": {},
   "outputs": [],
   "source": [
    "#Reading in obese, overweight, corona cases files from config file using yaml\n",
    "def get_config():\n",
    "    with open(\"FA_config.yaml\", 'r') as stream:\n",
    "        config = yaml.safe_load(stream)\n",
    "    return config\n",
    "config = get_config()\n",
    "obese = dd.read_csv(config[\"obese_cases\"], sep=(\";\"))\n",
    "overweight = dd.read_csv(config['overweight_cases'], sep = \";\")\n",
    "cor_cases = dd.read_csv(config[\"corona_cases\"], sep=\";\")\n",
    "towns_provinces = dd.read_csv(config[\"town_province\"])\n",
    "civilian_count_region = dd.read_csv(config[\"civilian_count_region\"], sep = \";\")\n",
    "\n",
    "provinces = [\"Groningen\", \"Drenthe\"]\n"
   ]
  },
  {
   "cell_type": "code",
   "execution_count": 4,
   "metadata": {},
   "outputs": [],
   "source": [
    "\"\"\"Sources: https://www.cbs.nl/nl-nl/nieuws/2020/53/aantal-gemeenten-daalt-in-2021-verder-tot-352\n",
    "https://www.cbs.nl/nl-nl/onze-diensten/methoden/classificaties/overig/gemeentelijke-indelingen-per-jaar/indeling-per-jaar/gemeentelijke-indeling-op-1-januari-2019\"\"\"\n",
    "# Manual adjusting the updates from the municipalities in 2017 and 2021\n",
    "\n",
    "obese = obese.mask(obese == \"Bedum\", \"Het Hogeland\")\n",
    "obese = obese.mask(obese == \"Eemsmond\", \"Het Hogeland\")\n",
    "obese = obese.mask(obese == \"De Marne\", \"Het Hogeland\")\n",
    "obese = obese.mask(obese == \"Winsum\", \"Het Hogeland\")\n",
    "\n",
    "obese = obese.mask(obese == \"Grootegast\", \"Westerkwartier\")\n",
    "obese = obese.mask(obese == \"Leek\", \"Westerkwartier\")\n",
    "obese = obese.mask(obese == \"Marum\", \"Westerkwartier\")\n",
    "obese = obese.mask(obese == \"Zuidhorn\", \"Westerkwartier\")\n",
    "\n",
    "obese = obese.mask(obese == \"Hoogezand-Sappemeer\", \"Midden-Groningen\")\n",
    "obese = obese.mask(obese == \"Slochteren\", \"Midden-Groningen\")\n",
    "obese = obese.mask(obese == \"Menterwolde\", \"Midden-Groningen\")\n",
    "\n",
    "\n",
    "\n",
    "overweight = overweight.mask(overweight == \"Bedum\", \"Het Hogeland\")\n",
    "overweight = overweight.mask(overweight == \"Eemsmond\", \"Het Hogeland\")\n",
    "overweight = overweight.mask(overweight == \"De Marne\", \"Het Hogeland\")\n",
    "overweight = overweight.mask(overweight == \"Winsum\", \"Het Hogeland\")\n",
    "\n",
    "overweight = overweight.mask(overweight == \"Grootegast\", \"Westerkwartier\")\n",
    "overweight = overweight.mask(overweight == \"Leek\", \"Westerkwartier\")\n",
    "overweight = overweight.mask(overweight == \"Marum\", \"Westerkwartier\")\n",
    "overweight = overweight.mask(overweight == \"Zuidhorn\", \"Westerkwartier\")\n",
    "\n",
    "overweight = overweight.mask(overweight == \"Hoogezand-Sappemeer\", \"Midden-Groningen\")\n",
    "overweight = overweight.mask(overweight == \"Slochteren\", \"Midden-Groningen\")\n",
    "overweight = overweight.mask(overweight == \"Menterwolde\", \"Midden-Groningen\")\n",
    "\n",
    "overweight = overweight.mask(overweight == \"Ten boer\", \"Groningen\")\n",
    "overweight = overweight.mask(overweight == \"Groningen\", \"Groningen\")\n",
    "overweight = overweight.mask(overweight == \"Haren\", \"Groningen\")\n",
    "\n"
   ]
  },
  {
   "cell_type": "code",
   "execution_count": 5,
   "metadata": {},
   "outputs": [],
   "source": [
    "overweight_added_province = dd.merge(overweight,towns_provinces[[\"Gemeentenaam\", \"Provincienaam\"]], left_on=\"Gemeente\", right_on=\"Gemeentenaam\")\n",
    "obese_added_province = dd.merge(obese,towns_provinces[[\"Gemeentenaam\", \"Provincienaam\"]], left_on=\"Gemeente\", right_on=\"Gemeentenaam\")"
   ]
  },
  {
   "cell_type": "code",
   "execution_count": 6,
   "metadata": {},
   "outputs": [],
   "source": [
    "obese_Gr_Dr = obese_added_province[obese_added_province[\"Provincienaam\"].isin(provinces)]\n",
    "overweight_Gr_Dr = overweight_added_province[overweight_added_province[\"Provincienaam\"].isin(provinces)]"
   ]
  },
  {
   "cell_type": "code",
   "execution_count": 7,
   "metadata": {},
   "outputs": [],
   "source": [
    "obese_Gr_Dr = obese_Gr_Dr.rename(columns={\"Ernstig overgewicht (%)\":\"Obese(%)\",\n",
    "                                          \"Provincienaam\":\"Province\",\n",
    "                                          \"Gebied\":\"Area\",\"Gemeente\":\"Region\",\n",
    "                                          \"idID\":\"RegionID\"})\n",
    "overweight_Gr_Dr = overweight_Gr_Dr.rename(columns={\"Overgewicht (%)\":\"Overweight(%)\", \n",
    "                                                    \"Provincienaam\":\"Province\", \n",
    "                                                    \"Gebied\":\"Area\",\"Gemeente\":\"Region\",\n",
    "                                                    \"idID\":\"RegionID\"})"
   ]
  },
  {
   "cell_type": "code",
   "execution_count": 8,
   "metadata": {},
   "outputs": [],
   "source": [
    "obese_overweight = dd.merge(obese_Gr_Dr, overweight_Gr_Dr)[[\"Province\", \"RegionID\",\"Region\",\"Area\", \"Obese(%)\", \"Overweight(%)\"]].dropna()\n"
   ]
  },
  {
   "cell_type": "code",
   "execution_count": 9,
   "metadata": {},
   "outputs": [
    {
     "data": {
      "text/html": [
       "<div>\n",
       "<style scoped>\n",
       "    .dataframe tbody tr th:only-of-type {\n",
       "        vertical-align: middle;\n",
       "    }\n",
       "\n",
       "    .dataframe tbody tr th {\n",
       "        vertical-align: top;\n",
       "    }\n",
       "\n",
       "    .dataframe thead th {\n",
       "        text-align: right;\n",
       "    }\n",
       "</style>\n",
       "<table border=\"1\" class=\"dataframe\">\n",
       "  <thead>\n",
       "    <tr style=\"text-align: right;\">\n",
       "      <th></th>\n",
       "      <th>Province</th>\n",
       "      <th>RegionID</th>\n",
       "      <th>Region</th>\n",
       "      <th>Area</th>\n",
       "      <th>Obese(%)</th>\n",
       "      <th>Overweight(%)</th>\n",
       "    </tr>\n",
       "  </thead>\n",
       "  <tbody>\n",
       "    <tr>\n",
       "      <th>1</th>\n",
       "      <td>Drenthe</td>\n",
       "      <td>1680</td>\n",
       "      <td>Aa en Hunze</td>\n",
       "      <td>Wijk 00 Annen</td>\n",
       "      <td>15.0</td>\n",
       "      <td>53.0</td>\n",
       "    </tr>\n",
       "    <tr>\n",
       "      <th>2</th>\n",
       "      <td>Drenthe</td>\n",
       "      <td>1680</td>\n",
       "      <td>Aa en Hunze</td>\n",
       "      <td>Wijk 01 Eext</td>\n",
       "      <td>15.0</td>\n",
       "      <td>54.0</td>\n",
       "    </tr>\n",
       "    <tr>\n",
       "      <th>3</th>\n",
       "      <td>Drenthe</td>\n",
       "      <td>1680</td>\n",
       "      <td>Aa en Hunze</td>\n",
       "      <td>Wijk 02 Anloo</td>\n",
       "      <td>17.0</td>\n",
       "      <td>55.0</td>\n",
       "    </tr>\n",
       "    <tr>\n",
       "      <th>4</th>\n",
       "      <td>Drenthe</td>\n",
       "      <td>1680</td>\n",
       "      <td>Aa en Hunze</td>\n",
       "      <td>Wijk 03 Gasteren</td>\n",
       "      <td>13.0</td>\n",
       "      <td>50.0</td>\n",
       "    </tr>\n",
       "    <tr>\n",
       "      <th>5</th>\n",
       "      <td>Drenthe</td>\n",
       "      <td>1680</td>\n",
       "      <td>Aa en Hunze</td>\n",
       "      <td>Wijk 04 Anderen</td>\n",
       "      <td>15.0</td>\n",
       "      <td>55.0</td>\n",
       "    </tr>\n",
       "  </tbody>\n",
       "</table>\n",
       "</div>"
      ],
      "text/plain": [
       "  Province  RegionID       Region              Area  Obese(%)  Overweight(%)\n",
       "1  Drenthe      1680  Aa en Hunze     Wijk 00 Annen      15.0           53.0\n",
       "2  Drenthe      1680  Aa en Hunze      Wijk 01 Eext      15.0           54.0\n",
       "3  Drenthe      1680  Aa en Hunze     Wijk 02 Anloo      17.0           55.0\n",
       "4  Drenthe      1680  Aa en Hunze  Wijk 03 Gasteren      13.0           50.0\n",
       "5  Drenthe      1680  Aa en Hunze   Wijk 04 Anderen      15.0           55.0"
      ]
     },
     "execution_count": 9,
     "metadata": {},
     "output_type": "execute_result"
    }
   ],
   "source": [
    "obese_overweight.head()"
   ]
  },
  {
   "cell_type": "code",
   "execution_count": 10,
   "metadata": {},
   "outputs": [],
   "source": [
    "obese_overweight[[\"Obese(%)\", \"Overweight(%)\"]] = obese_overweight[[\"Obese(%)\", \"Overweight(%)\"]].astype(float)"
   ]
  },
  {
   "cell_type": "code",
   "execution_count": 11,
   "metadata": {},
   "outputs": [
    {
     "data": {
      "text/html": [
       "<div>\n",
       "<style scoped>\n",
       "    .dataframe tbody tr th:only-of-type {\n",
       "        vertical-align: middle;\n",
       "    }\n",
       "\n",
       "    .dataframe tbody tr th {\n",
       "        vertical-align: top;\n",
       "    }\n",
       "\n",
       "    .dataframe thead th {\n",
       "        text-align: right;\n",
       "    }\n",
       "</style>\n",
       "<table border=\"1\" class=\"dataframe\">\n",
       "  <thead>\n",
       "    <tr style=\"text-align: right;\">\n",
       "      <th></th>\n",
       "      <th>Province</th>\n",
       "      <th>RegionID</th>\n",
       "      <th>Region</th>\n",
       "      <th>Area</th>\n",
       "      <th>Obese(%)</th>\n",
       "      <th>Overweight(%)</th>\n",
       "    </tr>\n",
       "  </thead>\n",
       "  <tbody>\n",
       "    <tr>\n",
       "      <th>1</th>\n",
       "      <td>Drenthe</td>\n",
       "      <td>1680</td>\n",
       "      <td>Aa en Hunze</td>\n",
       "      <td>Wijk 00 Annen</td>\n",
       "      <td>15.0</td>\n",
       "      <td>53.0</td>\n",
       "    </tr>\n",
       "    <tr>\n",
       "      <th>2</th>\n",
       "      <td>Drenthe</td>\n",
       "      <td>1680</td>\n",
       "      <td>Aa en Hunze</td>\n",
       "      <td>Wijk 01 Eext</td>\n",
       "      <td>15.0</td>\n",
       "      <td>54.0</td>\n",
       "    </tr>\n",
       "    <tr>\n",
       "      <th>3</th>\n",
       "      <td>Drenthe</td>\n",
       "      <td>1680</td>\n",
       "      <td>Aa en Hunze</td>\n",
       "      <td>Wijk 02 Anloo</td>\n",
       "      <td>17.0</td>\n",
       "      <td>55.0</td>\n",
       "    </tr>\n",
       "    <tr>\n",
       "      <th>4</th>\n",
       "      <td>Drenthe</td>\n",
       "      <td>1680</td>\n",
       "      <td>Aa en Hunze</td>\n",
       "      <td>Wijk 03 Gasteren</td>\n",
       "      <td>13.0</td>\n",
       "      <td>50.0</td>\n",
       "    </tr>\n",
       "    <tr>\n",
       "      <th>5</th>\n",
       "      <td>Drenthe</td>\n",
       "      <td>1680</td>\n",
       "      <td>Aa en Hunze</td>\n",
       "      <td>Wijk 04 Anderen</td>\n",
       "      <td>15.0</td>\n",
       "      <td>55.0</td>\n",
       "    </tr>\n",
       "  </tbody>\n",
       "</table>\n",
       "</div>"
      ],
      "text/plain": [
       "  Province  RegionID       Region              Area  Obese(%)  Overweight(%)\n",
       "1  Drenthe      1680  Aa en Hunze     Wijk 00 Annen      15.0           53.0\n",
       "2  Drenthe      1680  Aa en Hunze      Wijk 01 Eext      15.0           54.0\n",
       "3  Drenthe      1680  Aa en Hunze     Wijk 02 Anloo      17.0           55.0\n",
       "4  Drenthe      1680  Aa en Hunze  Wijk 03 Gasteren      13.0           50.0\n",
       "5  Drenthe      1680  Aa en Hunze   Wijk 04 Anderen      15.0           55.0"
      ]
     },
     "execution_count": 11,
     "metadata": {},
     "output_type": "execute_result"
    }
   ],
   "source": [
    "obese_overweight.head()"
   ]
  },
  {
   "cell_type": "code",
   "execution_count": 12,
   "metadata": {},
   "outputs": [],
   "source": [
    "mean_obese_overweight_region = obese_overweight.groupby([\"Province\", \"Region\", \"RegionID\"]).mean()"
   ]
  },
  {
   "cell_type": "code",
   "execution_count": 13,
   "metadata": {},
   "outputs": [],
   "source": [
    "mean_obese_overweight_region = mean_obese_overweight_region.reset_index()"
   ]
  },
  {
   "cell_type": "code",
   "execution_count": 14,
   "metadata": {},
   "outputs": [],
   "source": [
    "mean_obese_overweight_region = mean_obese_overweight_region.mask(mean_obese_overweight_region == \"416\", '1952')\n",
    "mean_obese_overweight_region = mean_obese_overweight_region.mask(mean_obese_overweight_region == \"28\", '1969')\n",
    "mean_obese_overweight_region = mean_obese_overweight_region.mask(mean_obese_overweight_region == \"1032\", '1966')\n",
    "mean_obese_overweight_region = mean_obese_overweight_region.mask(mean_obese_overweight_region == \"14\", '14')"
   ]
  },
  {
   "cell_type": "code",
   "execution_count": 15,
   "metadata": {},
   "outputs": [],
   "source": [
    "mean_obese_overweight_region[\"RegionID\"] = mean_obese_overweight_region[\"RegionID\"].astype(int)"
   ]
  },
  {
   "cell_type": "code",
   "execution_count": 16,
   "metadata": {},
   "outputs": [],
   "source": [
    "civilian_count_region[\"RegioS\"] = civilian_count_region[\"RegioS\"].str.strip(\"GM\").astype(int)"
   ]
  },
  {
   "cell_type": "code",
   "execution_count": 17,
   "metadata": {},
   "outputs": [],
   "source": [
    "#Adding civilian count per region for normalization\n",
    "civilian_count_region = civilian_count_region.rename(columns={\"RegioS\":\"RegionID\"})\n"
   ]
  },
  {
   "cell_type": "code",
   "execution_count": 18,
   "metadata": {},
   "outputs": [],
   "source": [
    "mean_obese_overweight_region = mean_obese_overweight_region.merge(civilian_count_region[[\"RegionID\", \"TotaleBevolking_1\"]],on=\"RegionID\")"
   ]
  },
  {
   "cell_type": "code",
   "execution_count": 19,
   "metadata": {},
   "outputs": [],
   "source": [
    "#Extracting Groningen and Drenthe\n",
    "cor_dr_gr = cor_cases[cor_cases[\"Province\"].isin(provinces)]"
   ]
  },
  {
   "cell_type": "code",
   "execution_count": 20,
   "metadata": {},
   "outputs": [],
   "source": [
    "cor_dr_gr[\"Date_of_report\"] = dd.to_datetime(cor_dr_gr[\"Date_of_report\"], errors=\"ignore\")\n",
    "up_to_data_cor = cor_dr_gr[cor_dr_gr[\"Date_of_report\"] == cor_dr_gr[\"Date_of_report\"].max()].dropna()\n",
    "up_to_data_cor = cor_dr_gr[cor_dr_gr[\"Date_of_report\"] == cor_dr_gr[\"Date_of_report\"].max()].dropna()\n",
    "up_to_data_cor = cor_dr_gr[cor_dr_gr[\"Date_of_report\"] == cor_dr_gr[\"Date_of_report\"].max()].dropna()\n",
    "up_to_data_cor = up_to_data_cor.rename(columns={\"Municipality_code\":\"RegionID\"})\n",
    "up_to_data_cor[\"RegionID\"] = up_to_data_cor[\"RegionID\"].str.strip(\"GM\").astype(int)\n",
    "COVID_OvOb = mean_obese_overweight_region.merge(up_to_data_cor[[\"RegionID\", \"Total_reported\",\"Hospital_admission\", \"Deceased\"]], on=\"RegionID\")\n",
    "COVID_OvOb[\"TotaleBevolking_1\"] = COVID_OvOb[\"TotaleBevolking_1\"].astype(int)\n",
    "COVID_OvOb = COVID_OvOb.rename(columns={\"TotaleBevolking_1\":\"Civilian_number\"})\n",
    "COVID_OvOb[\"Normalized_Corona\"] = COVID_OvOb[\"Total_reported\"]/COVID_OvOb[\"Civilian_number\"]*1e5\n",
    "COVID_OvOb[\"Normalized_hospitalized\"] = COVID_OvOb[\"Hospital_admission\"]/COVID_OvOb[\"Civilian_number\"]*1e5\n",
    "COVID_OvOb[\"Normalized_deceased\"] = COVID_OvOb[\"Deceased\"]/COVID_OvOb[\"Civilian_number\"]*1e5"
   ]
  },
  {
   "cell_type": "code",
   "execution_count": 21,
   "metadata": {},
   "outputs": [
    {
     "data": {
      "text/html": [
       "<div>\n",
       "<style scoped>\n",
       "    .dataframe tbody tr th:only-of-type {\n",
       "        vertical-align: middle;\n",
       "    }\n",
       "\n",
       "    .dataframe tbody tr th {\n",
       "        vertical-align: top;\n",
       "    }\n",
       "\n",
       "    .dataframe thead th {\n",
       "        text-align: right;\n",
       "    }\n",
       "</style>\n",
       "<table border=\"1\" class=\"dataframe\">\n",
       "  <thead>\n",
       "    <tr style=\"text-align: right;\">\n",
       "      <th></th>\n",
       "      <th>Province</th>\n",
       "      <th>Region</th>\n",
       "      <th>RegionID</th>\n",
       "      <th>Obese(%)</th>\n",
       "      <th>Overweight(%)</th>\n",
       "      <th>Civilian_number</th>\n",
       "      <th>Total_reported</th>\n",
       "      <th>Hospital_admission</th>\n",
       "      <th>Deceased</th>\n",
       "      <th>Normalized_Corona</th>\n",
       "      <th>Normalized_hospitalized</th>\n",
       "      <th>Normalized_deceased</th>\n",
       "    </tr>\n",
       "  </thead>\n",
       "  <tbody>\n",
       "    <tr>\n",
       "      <th>0</th>\n",
       "      <td>Drenthe</td>\n",
       "      <td>Aa en Hunze</td>\n",
       "      <td>1680</td>\n",
       "      <td>16.047619</td>\n",
       "      <td>54.714286</td>\n",
       "      <td>25445</td>\n",
       "      <td>912</td>\n",
       "      <td>5</td>\n",
       "      <td>15</td>\n",
       "      <td>3584.201218</td>\n",
       "      <td>19.650226</td>\n",
       "      <td>58.950678</td>\n",
       "    </tr>\n",
       "    <tr>\n",
       "      <th>1</th>\n",
       "      <td>Drenthe</td>\n",
       "      <td>Assen</td>\n",
       "      <td>106</td>\n",
       "      <td>14.800000</td>\n",
       "      <td>51.600000</td>\n",
       "      <td>68599</td>\n",
       "      <td>2107</td>\n",
       "      <td>39</td>\n",
       "      <td>12</td>\n",
       "      <td>3071.473345</td>\n",
       "      <td>56.852141</td>\n",
       "      <td>17.492966</td>\n",
       "    </tr>\n",
       "    <tr>\n",
       "      <th>2</th>\n",
       "      <td>Drenthe</td>\n",
       "      <td>Borger-Odoorn</td>\n",
       "      <td>1681</td>\n",
       "      <td>17.058824</td>\n",
       "      <td>56.588235</td>\n",
       "      <td>25559</td>\n",
       "      <td>993</td>\n",
       "      <td>18</td>\n",
       "      <td>12</td>\n",
       "      <td>3885.128526</td>\n",
       "      <td>70.425291</td>\n",
       "      <td>46.950194</td>\n",
       "    </tr>\n",
       "    <tr>\n",
       "      <th>3</th>\n",
       "      <td>Drenthe</td>\n",
       "      <td>Coevorden</td>\n",
       "      <td>109</td>\n",
       "      <td>16.333333</td>\n",
       "      <td>55.777778</td>\n",
       "      <td>35297</td>\n",
       "      <td>1874</td>\n",
       "      <td>43</td>\n",
       "      <td>25</td>\n",
       "      <td>5309.233079</td>\n",
       "      <td>121.823384</td>\n",
       "      <td>70.827549</td>\n",
       "    </tr>\n",
       "    <tr>\n",
       "      <th>4</th>\n",
       "      <td>Drenthe</td>\n",
       "      <td>De Wolden</td>\n",
       "      <td>1690</td>\n",
       "      <td>14.857143</td>\n",
       "      <td>52.571429</td>\n",
       "      <td>24330</td>\n",
       "      <td>1134</td>\n",
       "      <td>24</td>\n",
       "      <td>19</td>\n",
       "      <td>4660.912454</td>\n",
       "      <td>98.643650</td>\n",
       "      <td>78.092889</td>\n",
       "    </tr>\n",
       "  </tbody>\n",
       "</table>\n",
       "</div>"
      ],
      "text/plain": [
       "  Province         Region  RegionID   Obese(%)  Overweight(%)  \\\n",
       "0  Drenthe    Aa en Hunze      1680  16.047619      54.714286   \n",
       "1  Drenthe          Assen       106  14.800000      51.600000   \n",
       "2  Drenthe  Borger-Odoorn      1681  17.058824      56.588235   \n",
       "3  Drenthe      Coevorden       109  16.333333      55.777778   \n",
       "4  Drenthe      De Wolden      1690  14.857143      52.571429   \n",
       "\n",
       "   Civilian_number  Total_reported  Hospital_admission  Deceased  \\\n",
       "0            25445             912                   5        15   \n",
       "1            68599            2107                  39        12   \n",
       "2            25559             993                  18        12   \n",
       "3            35297            1874                  43        25   \n",
       "4            24330            1134                  24        19   \n",
       "\n",
       "   Normalized_Corona  Normalized_hospitalized  Normalized_deceased  \n",
       "0        3584.201218                19.650226            58.950678  \n",
       "1        3071.473345                56.852141            17.492966  \n",
       "2        3885.128526                70.425291            46.950194  \n",
       "3        5309.233079               121.823384            70.827549  \n",
       "4        4660.912454                98.643650            78.092889  "
      ]
     },
     "execution_count": 21,
     "metadata": {},
     "output_type": "execute_result"
    }
   ],
   "source": [
    "COVID_OvOb.head()"
   ]
  }
 ],
 "metadata": {
  "kernelspec": {
   "display_name": "Python 3",
   "language": "python",
   "name": "python3"
  },
  "language_info": {
   "codemirror_mode": {
    "name": "ipython",
    "version": 3
   },
   "file_extension": ".py",
   "mimetype": "text/x-python",
   "name": "python",
   "nbconvert_exporter": "python",
   "pygments_lexer": "ipython3",
   "version": "3.9.5"
  }
 },
 "nbformat": 4,
 "nbformat_minor": 2
}
